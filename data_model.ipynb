{
 "cells": [
  {
   "cell_type": "markdown",
   "metadata": {},
   "source": [
    "# Model Selection\n",
    "### Imports"
   ]
  },
  {
   "cell_type": "code",
   "execution_count": 4,
   "metadata": {},
   "outputs": [],
   "source": [
    "from sklearn.model_selection import train_test_split\n",
    "from sklearn.linear_model import LinearRegression\n",
    "from sklearn.metrics import mean_squared_error, r2_score\n",
    "import pandas as pd"
   ]
  },
  {
   "cell_type": "markdown",
   "metadata": {},
   "source": [
    "### Simple Linear Regression\n",
    "We're going to have to try a lot of different models and parameter tuning, but for now we'll just set up a simple Linear Regression model via K-Fold Cross Validation, where the set we leave out (for validation), will be a set corresponding to a particular season"
   ]
  },
  {
   "cell_type": "code",
   "execution_count": 2,
   "metadata": {},
   "outputs": [
    {
     "name": "stdout",
     "output_type": "stream",
     "text": [
      "Index(['Plyr', 'Age', 'Tm', 'G', 'GS', 'MP', 'FG', 'FGA', 'FG%', '3P', '3PA',\n",
      "       '3P%', '2P', '2PA', '2P%', 'eFG%', 'FT', 'FTA', 'FT%', 'ORB', 'DRB',\n",
      "       'TRB', 'AST', 'STL', 'BLK', 'TOV', 'PF', 'PTS', 'id', 'Szn', 'PER',\n",
      "       'TS%', '3PAr', 'FTr', 'ORB%', 'DRB%', 'TRB%', 'AST%', 'STL%', 'BLK%',\n",
      "       'TOV%', 'USG%', 'OWS', 'DWS', 'WS', 'WS/48', 'OBPM', 'DBPM', 'BPM',\n",
      "       'VORP', 'MVP_Rnk', 'MVP_Shr', 'Tm_Rcrd', 'Pos_C', 'Pos_PF', 'Pos_PG',\n",
      "       'Pos_SF', 'Pos_SG'],\n",
      "      dtype='object')\n",
      "(2127, 39)\n",
      "(2127,)\n"
     ]
    },
    {
     "ename": "NameError",
     "evalue": "name 'season_list' is not defined",
     "output_type": "error",
     "traceback": [
      "\u001b[1;31m---------------------------------------------------------------------------\u001b[0m",
      "\u001b[1;31mNameError\u001b[0m                                 Traceback (most recent call last)",
      "Cell \u001b[1;32mIn[2], line 38\u001b[0m\n\u001b[0;32m     34\u001b[0m target \u001b[38;5;241m=\u001b[39m \u001b[38;5;124m'\u001b[39m\u001b[38;5;124mMVP_Shr\u001b[39m\u001b[38;5;124m'\u001b[39m\n\u001b[0;32m     36\u001b[0m \u001b[38;5;66;03m# ToDo: just keep working on this loop, and make it work for every model in the future\u001b[39;00m\n\u001b[1;32m---> 38\u001b[0m \u001b[38;5;28;01mfor\u001b[39;00m season \u001b[38;5;129;01min\u001b[39;00m season_list:\n\u001b[0;32m     39\u001b[0m     X_train \u001b[38;5;241m=\u001b[39m total_data_df[total_data_df[\u001b[38;5;124m'\u001b[39m\u001b[38;5;124mSzn\u001b[39m\u001b[38;5;124m'\u001b[39m] \u001b[38;5;241m!=\u001b[39m season][features]\n\u001b[0;32m     40\u001b[0m     X_test \u001b[38;5;241m=\u001b[39m total_data_df[total_data_df[\u001b[38;5;124m'\u001b[39m\u001b[38;5;124mSzn\u001b[39m\u001b[38;5;124m'\u001b[39m] \u001b[38;5;241m==\u001b[39m season][features]\n",
      "\u001b[1;31mNameError\u001b[0m: name 'season_list' is not defined"
     ]
    }
   ],
   "source": [
    "#Read data from data cleaning\n",
    "total_data_df = pd.read_csv('output.csv')\n",
    "\n",
    "# Print the columns\n",
    "print(total_data_df.columns)\n",
    "\n",
    "# Select features and target variable\n",
    "features = ['Pos_PG', 'Pos_SG', 'Pos_SF', 'Pos_PF', 'Pos_C', 'G', 'GS', 'MP', 'FG', 'FG%', '3P', '3P%', '2P', '2P%', 'eFG%', 'ORB', 'DRB', 'AST', 'BLK', 'PTS', 'PER', '3PAr', 'FTr', 'ORB%', 'DRB%', 'TRB%', 'AST%', 'STL%', 'BLK%', 'USG%', 'OWS', 'DWS', 'WS', 'WS/48', 'OBPM', 'DBPM', 'BPM', 'VORP', 'Tm_Rcrd']\n",
    "target = 'MVP_Shr'\n",
    "\n",
    "# Prepare the data\n",
    "X_train = total_data_df[total_data_df['Szn'] != '2022_23'][features]\n",
    "X_test = total_data_df[total_data_df['Szn'] == '2022_23'][features]\n",
    "y_train = total_data_df[total_data_df['Szn'] != '2022_23'][target]\n",
    "y_test = total_data_df[total_data_df['Szn'] == '2022_23'][target]\n",
    "\n",
    "# Print X_train shape\n",
    "print(X_train.shape)\n",
    "# Print Y_train shape\n",
    "print(y_train.shape)\n",
    "\n",
    "# Initialize and train the linear regression model\n",
    "model = LinearRegression()\n",
    "model.fit(X_train, y_train)\n",
    "\n",
    "# Make predictions on the testing data\n",
    "y_pred = model.predict(X_test)\n",
    "\n",
    "# Show the NBA MVP predictions for the 2022_23 season\n",
    "predictions = pd.DataFrame({'Player': total_data_df[total_data_df['Szn'] == '2022_23']['Plyr'], 'Predicted MVP Share': y_pred})\n",
    "predictions.sort_values(by='Predicted MVP Share', ascending=False)\n",
    "# make a for loop to predict the MVP share for each season\n",
    "features = ['Pos_PG', 'Pos_SG', 'Pos_SF', 'Pos_PF', 'Pos_C', 'G', 'GS', 'MP', 'FG', 'FG%', '3P', '3P%', '2P', '2P%', 'eFG%', 'ORB', 'DRB', 'AST', 'BLK', 'PTS', 'PER', '3PAr', 'FTr', 'ORB%', 'DRB%', 'TRB%', 'AST%', 'STL%', 'BLK%', 'USG%', 'OWS', 'DWS', 'WS', 'WS/48', 'OBPM', 'DBPM', 'BPM', 'VORP', 'Tm_Rcrd']\n",
    "target = 'MVP_Shr'\n",
    "\n",
    "# ToDo: just keep working on this loop, and make it work for every model in the future\n",
    "season_list = [f\"{year}_{year + 1 - 2000:02}\" for year in range(2000, 2023)]\n",
    "\n",
    "for season in season_list:\n",
    "    X_train = total_data_df[total_data_df['Szn'] != season][features]\n",
    "    X_test = total_data_df[total_data_df['Szn'] == season][features]\n",
    "    y_train = total_data_df[total_data_df['Szn'] != season][target]\n",
    "    y_test = total_data_df[total_data_df['Szn'] == season][target]\n",
    "\n",
    "    model = LinearRegression()\n",
    "    model.fit(X_train, y_train)\n",
    "\n",
    "    y_pred = model.predict(X_test)\n",
    "\n",
    "    predictions = pd.DataFrame({'Player': total_data_df[total_data_df['Szn'] == season]['Plyr'], 'Predicted MVP Share': y_pred})\n",
    "    print(f'MVP Predictions for the {season} season:')\n",
    "    print(predictions.sort_values(by='Predicted MVP Share', ascending=False).head(1))\n",
    "    print('\\n')"
   ]
  }
 ],
 "metadata": {
  "kernelspec": {
   "display_name": "base",
   "language": "python",
   "name": "python3"
  },
  "language_info": {
   "codemirror_mode": {
    "name": "ipython",
    "version": 3
   },
   "file_extension": ".py",
   "mimetype": "text/x-python",
   "name": "python",
   "nbconvert_exporter": "python",
   "pygments_lexer": "ipython3",
   "version": "3.11.5"
  }
 },
 "nbformat": 4,
 "nbformat_minor": 2
}
